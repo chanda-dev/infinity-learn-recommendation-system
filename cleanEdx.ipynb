{
 "cells": [
  {
   "cell_type": "markdown",
   "metadata": {},
   "source": [
    "import the file"
   ]
  },
  {
   "cell_type": "code",
   "execution_count": 1,
   "metadata": {},
   "outputs": [],
   "source": [
    "import pandas as pd"
   ]
  },
  {
   "cell_type": "code",
   "execution_count": 2,
   "metadata": {},
   "outputs": [
    {
     "name": "stdout",
     "output_type": "stream",
     "text": [
      "Original Data Sample:\n",
      "                                                Name  \\\n",
      "0                                How to Learn Online   \n",
      "1  Programming for Everybody (Getting Started wit...   \n",
      "2            CS50's Introduction to Computer Science   \n",
      "3                                 The Analytics Edge   \n",
      "4  Marketing Analytics: Marketing Measurement Str...   \n",
      "\n",
      "                              University Difficulty Level  \\\n",
      "0                                    edX         Beginner   \n",
      "1             The University of Michigan         Beginner   \n",
      "2                     Harvard University         Beginner   \n",
      "3  Massachusetts Institute of Technology     Intermediate   \n",
      "4     University of California, Berkeley         Beginner   \n",
      "\n",
      "                                                Link  \\\n",
      "0     https://www.edx.org/course/how-to-learn-online   \n",
      "1  https://www.edx.org/course/programming-for-eve...   \n",
      "2  https://www.edx.org/course/cs50s-introduction-...   \n",
      "3      https://www.edx.org/course/the-analytics-edge   \n",
      "4  https://www.edx.org/course/marketing-analytics...   \n",
      "\n",
      "                                               About  \\\n",
      "0  Learn essential strategies for successful onli...   \n",
      "1  This course is a \"no prerequisite\" introductio...   \n",
      "2  An introduction to the intellectual enterprise...   \n",
      "3  Through inspiring examples and stories, discov...   \n",
      "4     This course is part of a MicroMasters® Program   \n",
      "\n",
      "                                  Course Description  \n",
      "0  Designed for those who are new to elearning, t...  \n",
      "1  This course aims to teach everyone the basics ...  \n",
      "2  This is CS50x , Harvard University's introduct...  \n",
      "3  In the last decade, the amount of data availab...  \n",
      "4  Begin your journey in a new career in marketin...  \n"
     ]
    }
   ],
   "source": [
    "# Read the CSV file.\n",
    "df = pd.read_csv(\"Edx.csv\")\n",
    "print(\"Original Data Sample:\")\n",
    "print(df.head())"
   ]
  },
  {
   "cell_type": "code",
   "execution_count": 8,
   "metadata": {},
   "outputs": [],
   "source": [
    "# Extract the relevant columns into course_data.\n",
    "course_data = df[['Name', 'About', 'Course Description']]"
   ]
  },
  {
   "cell_type": "code",
   "execution_count": 9,
   "metadata": {},
   "outputs": [
    {
     "name": "stderr",
     "output_type": "stream",
     "text": [
      "C:\\Users\\SOK Chanda\\AppData\\Local\\Temp\\ipykernel_22628\\2847646851.py:2: SettingWithCopyWarning: \n",
      "A value is trying to be set on a copy of a slice from a DataFrame.\n",
      "Try using .loc[row_indexer,col_indexer] = value instead\n",
      "\n",
      "See the caveats in the documentation: https://pandas.pydata.org/pandas-docs/stable/user_guide/indexing.html#returning-a-view-versus-a-copy\n",
      "  course_data['Name'] = course_data['Name'].fillna(\"\")\n",
      "C:\\Users\\SOK Chanda\\AppData\\Local\\Temp\\ipykernel_22628\\2847646851.py:3: SettingWithCopyWarning: \n",
      "A value is trying to be set on a copy of a slice from a DataFrame.\n",
      "Try using .loc[row_indexer,col_indexer] = value instead\n",
      "\n",
      "See the caveats in the documentation: https://pandas.pydata.org/pandas-docs/stable/user_guide/indexing.html#returning-a-view-versus-a-copy\n",
      "  course_data['About'] = course_data['About'].fillna(\"\")\n",
      "C:\\Users\\SOK Chanda\\AppData\\Local\\Temp\\ipykernel_22628\\2847646851.py:4: SettingWithCopyWarning: \n",
      "A value is trying to be set on a copy of a slice from a DataFrame.\n",
      "Try using .loc[row_indexer,col_indexer] = value instead\n",
      "\n",
      "See the caveats in the documentation: https://pandas.pydata.org/pandas-docs/stable/user_guide/indexing.html#returning-a-view-versus-a-copy\n",
      "  course_data['Course Description'] = course_data['Course Description'].fillna(\"\")\n"
     ]
    }
   ],
   "source": [
    "# Fill missing values.\n",
    "course_data['Name'] = course_data['Name'].fillna(\"\")\n",
    "course_data['About'] = course_data['About'].fillna(\"\")\n",
    "course_data['Course Description'] = course_data['Course Description'].fillna(\"\")"
   ]
  },
  {
   "cell_type": "code",
   "execution_count": 10,
   "metadata": {},
   "outputs": [
    {
     "name": "stdout",
     "output_type": "stream",
     "text": [
      "Available paths: ['C:\\\\Users\\\\SOK Chanda/nltk_data', 'c:\\\\Python312\\\\nltk_data', 'c:\\\\Python312\\\\share\\\\nltk_data', 'c:\\\\Python312\\\\lib\\\\nltk_data', 'C:\\\\Users\\\\SOK Chanda\\\\AppData\\\\Roaming\\\\nltk_data', 'C:\\\\nltk_data', 'D:\\\\nltk_data', 'E:\\\\nltk_data', 'C:/nltk_data']\n",
      "['a', 'about', 'above', 'after', 'again', 'against', 'ain', 'all', 'am', 'an']\n"
     ]
    },
    {
     "name": "stderr",
     "output_type": "stream",
     "text": [
      "[nltk_data] Downloading package punkt to C:/nltk_data...\n",
      "[nltk_data]   Package punkt is already up-to-date!\n",
      "[nltk_data] Downloading package punkt_tab to C:/nltk_data...\n",
      "[nltk_data]   Package punkt_tab is already up-to-date!\n",
      "[nltk_data] Downloading package stopwords to C:/nltk_data...\n",
      "[nltk_data]   Package stopwords is already up-to-date!\n",
      "[nltk_data] Downloading package wordnet to C:/nltk_data...\n",
      "[nltk_data]   Package wordnet is already up-to-date!\n"
     ]
    }
   ],
   "source": [
    "import os\n",
    "import re\n",
    "import string\n",
    "import nltk\n",
    "os.environ['NLTK_DATA'] = 'C:/nltk_data'\n",
    "# Ensure that required NLTK datasets are downloaded to a specific directory.\n",
    "nltk.download('punkt', download_dir='C:/nltk_data')\n",
    "nltk.download('punkt_tab', download_dir='C:/nltk_data')\n",
    "nltk.download('stopwords', download_dir='C:/nltk_data')\n",
    "nltk.download('wordnet', download_dir='C:/nltk_data')\n",
    "nltk.data.path.append(\"C:/nltk_data\")\n",
    "\n",
    "from nltk.corpus import stopwords\n",
    "from nltk.tokenize import word_tokenize\n",
    "from nltk.stem import WordNetLemmatizer\n",
    "if \"C:/nltk_data\" not in nltk.data.path:\n",
    "    nltk.data.path.append(\"C:/nltk_data\")\n",
    "\n",
    "print(\"Available paths:\", nltk.data.path)\n",
    "print(stopwords.words('english')[:10])"
   ]
  },
  {
   "cell_type": "code",
   "execution_count": 11,
   "metadata": {},
   "outputs": [],
   "source": [
    "# Define the preprocessing function.\n",
    "lemmatizer = WordNetLemmatizer()\n",
    "stop_words = set(stopwords.words('english'))\n",
    "\n",
    "def preprocess_text(text):\n",
    "    text = str(text)\n",
    "    text = text.lower()\n",
    "    text = re.sub(r'\\d+', '', text)\n",
    "    text = re.sub(f'[{re.escape(string.punctuation)}]', '', text)\n",
    "    tokens = word_tokenize(text)\n",
    "    tokens = [word for word in tokens if word not in stop_words]\n",
    "    tokens = [lemmatizer.lemmatize(word) for word in tokens]\n",
    "    return tokens"
   ]
  },
  {
   "cell_type": "code",
   "execution_count": 12,
   "metadata": {},
   "outputs": [
    {
     "name": "stdout",
     "output_type": "stream",
     "text": [
      "Sample Original: How to Learn Online\n",
      "Sample Processed: ['learn', 'online']\n"
     ]
    },
    {
     "name": "stderr",
     "output_type": "stream",
     "text": [
      "C:\\Users\\SOK Chanda\\AppData\\Local\\Temp\\ipykernel_22628\\3402202032.py:8: SettingWithCopyWarning: \n",
      "A value is trying to be set on a copy of a slice from a DataFrame.\n",
      "Try using .loc[row_indexer,col_indexer] = value instead\n",
      "\n",
      "See the caveats in the documentation: https://pandas.pydata.org/pandas-docs/stable/user_guide/indexing.html#returning-a-view-versus-a-copy\n",
      "  course_data['title_tokens'] = course_data['Name'].astype(str).apply(preprocess_text)\n",
      "C:\\Users\\SOK Chanda\\AppData\\Local\\Temp\\ipykernel_22628\\3402202032.py:9: SettingWithCopyWarning: \n",
      "A value is trying to be set on a copy of a slice from a DataFrame.\n",
      "Try using .loc[row_indexer,col_indexer] = value instead\n",
      "\n",
      "See the caveats in the documentation: https://pandas.pydata.org/pandas-docs/stable/user_guide/indexing.html#returning-a-view-versus-a-copy\n",
      "  course_data['about_tokens'] = course_data['About'].astype(str).apply(preprocess_text)\n"
     ]
    },
    {
     "name": "stdout",
     "output_type": "stream",
     "text": [
      "\n",
      "Processed Data Sample:\n",
      "                                        title_tokens  \\\n",
      "0                                    [learn, online]   \n",
      "1  [programming, everybody, getting, started, pyt...   \n",
      "2              [cs, introduction, computer, science]   \n",
      "3                                  [analytics, edge]   \n",
      "4  [marketing, analytics, marketing, measurement,...   \n",
      "\n",
      "                                        about_tokens  \\\n",
      "0  [learn, essential, strategy, successful, onlin...   \n",
      "1  [course, prerequisite, introduction, python, p...   \n",
      "2  [introduction, intellectual, enterprise, compu...   \n",
      "3  [inspiring, example, story, discover, power, d...   \n",
      "4             [course, part, micromasters®, program]   \n",
      "\n",
      "                                  description_tokens  \n",
      "0  [designed, new, elearning, course, prepare, st...  \n",
      "1  [course, aim, teach, everyone, basic, programm...  \n",
      "2  [csx, harvard, university, introduction, intel...  \n",
      "3  [last, decade, amount, data, available, organi...  \n",
      "4  [begin, journey, new, career, marketing, analy...  \n",
      "\n",
      "Processed data exported to Edx_processed.csv\n"
     ]
    }
   ],
   "source": [
    "# Test the preprocessing function on a sample value.\n",
    "sample_value = course_data['Name'].iloc[0]\n",
    "print(\"Sample Original:\", sample_value)\n",
    "\n",
    "print(\"Sample Processed:\", preprocess_text(sample_value))\n",
    "\n",
    "# Apply preprocessing and save results in new columns.\n",
    "course_data['title_tokens'] = course_data['Name'].astype(str).apply(preprocess_text)\n",
    "course_data['about_tokens'] = course_data['About'].astype(str).apply(preprocess_text)\n",
    "course_data['description_tokens'] = course_data['Course Description'].astype(str).apply(preprocess_text)\n",
    "\n",
    "print(\"\\nProcessed Data Sample:\")\n",
    "print(course_data[['title_tokens', 'about_tokens', 'description_tokens']].head())\n",
    "\n",
    "# Export the processed data to a new CSV file.\n",
    "course_data.to_csv(\"convert_Edx_processed.csv\", index=False)\n",
    "print(\"\\nProcessed data exported to Edx_processed.csv\")"
   ]
  },
  {
   "cell_type": "code",
   "execution_count": null,
   "metadata": {},
   "outputs": [],
   "source": []
  }
 ],
 "metadata": {
  "kernelspec": {
   "display_name": "Python 3",
   "language": "python",
   "name": "python3"
  },
  "language_info": {
   "codemirror_mode": {
    "name": "ipython",
    "version": 3
   },
   "file_extension": ".py",
   "mimetype": "text/x-python",
   "name": "python",
   "nbconvert_exporter": "python",
   "pygments_lexer": "ipython3",
   "version": "3.12.5"
  }
 },
 "nbformat": 4,
 "nbformat_minor": 2
}
